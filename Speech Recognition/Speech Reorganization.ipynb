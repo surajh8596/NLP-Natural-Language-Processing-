{
 "cells": [
  {
   "cell_type": "markdown",
   "id": "a72429ee",
   "metadata": {},
   "source": [
    "### Speech Recognition\n",
    "-**Speech Recognition is an important feature in several applications used such as home automation, artificial intelligence, etc.**\n",
    "\n",
    "**"
   ]
  },
  {
   "cell_type": "code",
   "execution_count": 2,
   "id": "d14a5ef6",
   "metadata": {},
   "outputs": [],
   "source": [
    "import speech_recognition as sr\n",
    "import pyttsx3"
   ]
  },
  {
   "cell_type": "code",
   "execution_count": null,
   "id": "36381b47",
   "metadata": {},
   "outputs": [],
   "source": [
    "r = sr.Recognizer()\n",
    "def SpeakText(command):\n",
    "    engine = pyttsx3.init()\n",
    "    engine.say(command)\n",
    "    engine.runAndWait()\n",
    "while True:   \n",
    "    try:\n",
    "        with sr.Microphone() as source2:\n",
    "\n",
    "            r.adjust_for_ambient_noise(source2, duration=0.2)\n",
    "            audio2 = r.listen(source2)\n",
    "            MyText = r.recognize_google(audio2)\n",
    "            MyText = MyText.lower()\n",
    " \n",
    "            print(\"Did you say  \", MyText)\n",
    "            SpeakText(MyText)\n",
    "    except sr.RequestError as e:\n",
    "        print(\"Could not request results; {0}\".format(e))\n",
    "    except sr.UnknownValueError:\n",
    "        print(\"unknown error occurred\")"
   ]
  },
  {
   "cell_type": "code",
   "execution_count": null,
   "id": "c340d4ed",
   "metadata": {},
   "outputs": [],
   "source": []
  }
 ],
 "metadata": {
  "kernelspec": {
   "display_name": "python3.11",
   "language": "python",
   "name": "python3.11"
  },
  "language_info": {
   "codemirror_mode": {
    "name": "ipython",
    "version": 3
   },
   "file_extension": ".py",
   "mimetype": "text/x-python",
   "name": "python",
   "nbconvert_exporter": "python",
   "pygments_lexer": "ipython3",
   "version": "3.9.7"
  }
 },
 "nbformat": 4,
 "nbformat_minor": 5
}
