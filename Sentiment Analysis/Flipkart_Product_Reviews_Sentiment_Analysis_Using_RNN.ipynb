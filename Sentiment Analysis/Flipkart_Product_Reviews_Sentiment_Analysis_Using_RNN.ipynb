{
 "cells": [
  {
   "cell_type": "markdown",
   "id": "92c18e7f",
   "metadata": {},
   "source": [
    "## Problem Statement"
   ]
  },
  {
   "cell_type": "markdown",
   "id": "e809ddcb",
   "metadata": {},
   "source": [
    "### Dataset contains flipkart product reviews. Our main goal is predict the review sentiment of product. This will help flipkart to improve their products quality. This is binary machine learning classification problem. Here we aregoing to use RNN to predict the sentiments of the review."
   ]
  },
  {
   "cell_type": "markdown",
   "id": "f4c86200",
   "metadata": {},
   "source": [
    "### Import basic libraries"
   ]
  },
  {
   "cell_type": "code",
   "execution_count": 2,
   "id": "8d34b72f",
   "metadata": {},
   "outputs": [],
   "source": [
    "import pandas as pd\n",
    "import numpy as np\n",
    "import matplotlib.pyplot as plt\n",
    "import seaborn as sns\n",
    "import warnings\n",
    "warnings.filterwarnings(\"ignore\")"
   ]
  },
  {
   "cell_type": "markdown",
   "id": "49cf2a7c",
   "metadata": {},
   "source": [
    "### Load dataset"
   ]
  },
  {
   "cell_type": "code",
   "execution_count": 158,
   "id": "2b138609",
   "metadata": {},
   "outputs": [
    {
     "data": {
      "text/html": [
       "<div>\n",
       "<style scoped>\n",
       "    .dataframe tbody tr th:only-of-type {\n",
       "        vertical-align: middle;\n",
       "    }\n",
       "\n",
       "    .dataframe tbody tr th {\n",
       "        vertical-align: top;\n",
       "    }\n",
       "\n",
       "    .dataframe thead th {\n",
       "        text-align: right;\n",
       "    }\n",
       "</style>\n",
       "<table border=\"1\" class=\"dataframe\">\n",
       "  <thead>\n",
       "    <tr style=\"text-align: right;\">\n",
       "      <th></th>\n",
       "      <th>Product_name</th>\n",
       "      <th>Review</th>\n",
       "      <th>Rating</th>\n",
       "    </tr>\n",
       "  </thead>\n",
       "  <tbody>\n",
       "    <tr>\n",
       "      <th>0</th>\n",
       "      <td>Lenovo Ideapad Gaming 3 Ryzen 5 Hexa Core 5600...</td>\n",
       "      <td>Best under 60k Great performanceI got it for a...</td>\n",
       "      <td>5</td>\n",
       "    </tr>\n",
       "    <tr>\n",
       "      <th>1</th>\n",
       "      <td>Lenovo Ideapad Gaming 3 Ryzen 5 Hexa Core 5600...</td>\n",
       "      <td>Good perfomence...</td>\n",
       "      <td>5</td>\n",
       "    </tr>\n",
       "    <tr>\n",
       "      <th>2</th>\n",
       "      <td>Lenovo Ideapad Gaming 3 Ryzen 5 Hexa Core 5600...</td>\n",
       "      <td>Great performance but usually it has also that...</td>\n",
       "      <td>5</td>\n",
       "    </tr>\n",
       "    <tr>\n",
       "      <th>3</th>\n",
       "      <td>DELL Inspiron Athlon Dual Core 3050U - (4 GB/2...</td>\n",
       "      <td>My wife is so happy and best product 👌🏻😘</td>\n",
       "      <td>5</td>\n",
       "    </tr>\n",
       "    <tr>\n",
       "      <th>4</th>\n",
       "      <td>DELL Inspiron Athlon Dual Core 3050U - (4 GB/2...</td>\n",
       "      <td>Light weight laptop with new amazing features,...</td>\n",
       "      <td>5</td>\n",
       "    </tr>\n",
       "  </tbody>\n",
       "</table>\n",
       "</div>"
      ],
      "text/plain": [
       "                                        Product_name  \\\n",
       "0  Lenovo Ideapad Gaming 3 Ryzen 5 Hexa Core 5600...   \n",
       "1  Lenovo Ideapad Gaming 3 Ryzen 5 Hexa Core 5600...   \n",
       "2  Lenovo Ideapad Gaming 3 Ryzen 5 Hexa Core 5600...   \n",
       "3  DELL Inspiron Athlon Dual Core 3050U - (4 GB/2...   \n",
       "4  DELL Inspiron Athlon Dual Core 3050U - (4 GB/2...   \n",
       "\n",
       "                                              Review  Rating  \n",
       "0  Best under 60k Great performanceI got it for a...       5  \n",
       "1                                 Good perfomence...       5  \n",
       "2  Great performance but usually it has also that...       5  \n",
       "3           My wife is so happy and best product 👌🏻😘       5  \n",
       "4  Light weight laptop with new amazing features,...       5  "
      ]
     },
     "execution_count": 158,
     "metadata": {},
     "output_type": "execute_result"
    }
   ],
   "source": [
    "df=pd.read_csv(\"D:\\\\PGP IN DATA SCIENCE with Careerera\\\\Data Sets\\\\NLP Dataset\\\\flipkart_product_reviews.csv\")\n",
    "df.head()"
   ]
  },
  {
   "cell_type": "markdown",
   "id": "913039af",
   "metadata": {},
   "source": [
    "**Drop some unwanted column**"
   ]
  },
  {
   "cell_type": "code",
   "execution_count": 159,
   "id": "b4634560",
   "metadata": {},
   "outputs": [
    {
     "data": {
      "text/plain": [
       "Index(['Review', 'Rating'], dtype='object')"
      ]
     },
     "execution_count": 159,
     "metadata": {},
     "output_type": "execute_result"
    }
   ],
   "source": [
    "df.drop('Product_name', axis=1, inplace=True)\n",
    "df.columns"
   ]
  },
  {
   "cell_type": "markdown",
   "id": "159d5101",
   "metadata": {},
   "source": [
    "**Creating sentiment column using rating**"
   ]
  },
  {
   "cell_type": "code",
   "execution_count": 160,
   "id": "8d66acdd",
   "metadata": {},
   "outputs": [
    {
     "data": {
      "text/plain": [
       "1    2074\n",
       "0     230\n",
       "Name: sentiment, dtype: int64"
      ]
     },
     "execution_count": 160,
     "metadata": {},
     "output_type": "execute_result"
    }
   ],
   "source": [
    "def sent_class(rating):\n",
    "    if rating>=3:\n",
    "        return 1\n",
    "    else:\n",
    "        return 0\n",
    "    \n",
    "df['sentiment']=df['Rating'].apply(sent_class)\n",
    "df['sentiment'].value_counts()"
   ]
  },
  {
   "cell_type": "markdown",
   "id": "c6bd8089",
   "metadata": {},
   "source": [
    "#### drop rating column"
   ]
  },
  {
   "cell_type": "code",
   "execution_count": 161,
   "id": "2814327f",
   "metadata": {},
   "outputs": [],
   "source": [
    "df.drop('Rating', axis=1, inplace=True)"
   ]
  },
  {
   "cell_type": "markdown",
   "id": "ab5d7c22",
   "metadata": {},
   "source": [
    "### Understanding the dataset"
   ]
  },
  {
   "cell_type": "code",
   "execution_count": 50,
   "id": "eb61af51",
   "metadata": {},
   "outputs": [
    {
     "data": {
      "text/plain": [
       "(2304, 3)"
      ]
     },
     "execution_count": 50,
     "metadata": {},
     "output_type": "execute_result"
    }
   ],
   "source": [
    "df.shape"
   ]
  },
  {
   "cell_type": "code",
   "execution_count": 34,
   "id": "51d13157",
   "metadata": {},
   "outputs": [
    {
     "data": {
      "text/plain": [
       "Index(['Review', 'sentiment'], dtype='object')"
      ]
     },
     "execution_count": 34,
     "metadata": {},
     "output_type": "execute_result"
    }
   ],
   "source": [
    "df.columns"
   ]
  },
  {
   "cell_type": "code",
   "execution_count": 35,
   "id": "03e34cab",
   "metadata": {},
   "outputs": [
    {
     "name": "stdout",
     "output_type": "stream",
     "text": [
      "<class 'pandas.core.frame.DataFrame'>\n",
      "RangeIndex: 2304 entries, 0 to 2303\n",
      "Data columns (total 2 columns):\n",
      " #   Column     Non-Null Count  Dtype \n",
      "---  ------     --------------  ----- \n",
      " 0   Review     2304 non-null   object\n",
      " 1   sentiment  2304 non-null   int64 \n",
      "dtypes: int64(1), object(1)\n",
      "memory usage: 36.1+ KB\n"
     ]
    }
   ],
   "source": [
    "df.info()"
   ]
  },
  {
   "cell_type": "markdown",
   "id": "3471a880",
   "metadata": {},
   "source": [
    "### Missing values"
   ]
  },
  {
   "cell_type": "code",
   "execution_count": 162,
   "id": "1a4b1ae2",
   "metadata": {},
   "outputs": [
    {
     "data": {
      "text/plain": [
       "Review       0\n",
       "sentiment    0\n",
       "dtype: int64"
      ]
     },
     "execution_count": 162,
     "metadata": {},
     "output_type": "execute_result"
    }
   ],
   "source": [
    "df.isna().sum()"
   ]
  },
  {
   "cell_type": "markdown",
   "id": "38ffc81c",
   "metadata": {},
   "source": [
    "### Text preprocessing"
   ]
  },
  {
   "cell_type": "code",
   "execution_count": 163,
   "id": "85461c48",
   "metadata": {},
   "outputs": [],
   "source": [
    "import re\n",
    "import nltk\n",
    "from nltk.stem import WordNetLemmatizer\n",
    "from nltk.corpus import stopwords\n",
    "from nltk.tokenize import word_tokenize\n",
    "lemma=WordNetLemmatizer()\n",
    "stopwords=stopwords.words('english')"
   ]
  },
  {
   "cell_type": "code",
   "execution_count": 164,
   "id": "784dc0bd",
   "metadata": {},
   "outputs": [
    {
     "data": {
      "text/html": [
       "<div>\n",
       "<style scoped>\n",
       "    .dataframe tbody tr th:only-of-type {\n",
       "        vertical-align: middle;\n",
       "    }\n",
       "\n",
       "    .dataframe tbody tr th {\n",
       "        vertical-align: top;\n",
       "    }\n",
       "\n",
       "    .dataframe thead th {\n",
       "        text-align: right;\n",
       "    }\n",
       "</style>\n",
       "<table border=\"1\" class=\"dataframe\">\n",
       "  <thead>\n",
       "    <tr style=\"text-align: right;\">\n",
       "      <th></th>\n",
       "      <th>Review</th>\n",
       "      <th>sentiment</th>\n",
       "      <th>clean_reviews</th>\n",
       "    </tr>\n",
       "  </thead>\n",
       "  <tbody>\n",
       "    <tr>\n",
       "      <th>0</th>\n",
       "      <td>Best under 60k Great performanceI got it for a...</td>\n",
       "      <td>1</td>\n",
       "      <td>best k great performancei got around battery b...</td>\n",
       "    </tr>\n",
       "    <tr>\n",
       "      <th>1</th>\n",
       "      <td>Good perfomence...</td>\n",
       "      <td>1</td>\n",
       "      <td>good perfomence</td>\n",
       "    </tr>\n",
       "    <tr>\n",
       "      <th>2</th>\n",
       "      <td>Great performance but usually it has also that...</td>\n",
       "      <td>1</td>\n",
       "      <td>great performance usually also gaming laptop i...</td>\n",
       "    </tr>\n",
       "    <tr>\n",
       "      <th>3</th>\n",
       "      <td>My wife is so happy and best product 👌🏻😘</td>\n",
       "      <td>1</td>\n",
       "      <td>wife happy best product</td>\n",
       "    </tr>\n",
       "    <tr>\n",
       "      <th>4</th>\n",
       "      <td>Light weight laptop with new amazing features,...</td>\n",
       "      <td>1</td>\n",
       "      <td>light weight laptop new amazing feature batter...</td>\n",
       "    </tr>\n",
       "  </tbody>\n",
       "</table>\n",
       "</div>"
      ],
      "text/plain": [
       "                                              Review  sentiment  \\\n",
       "0  Best under 60k Great performanceI got it for a...          1   \n",
       "1                                 Good perfomence...          1   \n",
       "2  Great performance but usually it has also that...          1   \n",
       "3           My wife is so happy and best product 👌🏻😘          1   \n",
       "4  Light weight laptop with new amazing features,...          1   \n",
       "\n",
       "                                       clean_reviews  \n",
       "0  best k great performancei got around battery b...  \n",
       "1                                   good perfomence   \n",
       "2  great performance usually also gaming laptop i...  \n",
       "3                           wife happy best product   \n",
       "4  light weight laptop new amazing feature batter...  "
      ]
     },
     "execution_count": 164,
     "metadata": {},
     "output_type": "execute_result"
    }
   ],
   "source": [
    "def text_preprocessing(text):\n",
    "    text=re.sub(\"[^a-zA-Z]\", \" \", text)\n",
    "    text=str(text).lower()\n",
    "    text=[word for word in text.split(\" \") if word not in stopwords]\n",
    "    text=[lemma.lemmatize(word) for word in text]\n",
    "    text= \" \".join(text)\n",
    "    text=re.sub(\" +\", \" \", text)\n",
    "    return text\n",
    "\n",
    "df['clean_reviews']=df['Review'].apply(text_preprocessing)\n",
    "df.head()"
   ]
  },
  {
   "cell_type": "markdown",
   "id": "0c5c569e",
   "metadata": {},
   "source": [
    "### Input and output features"
   ]
  },
  {
   "cell_type": "code",
   "execution_count": 165,
   "id": "fe71036f",
   "metadata": {},
   "outputs": [],
   "source": [
    "X=df['clean_reviews']\n",
    "y=df['sentiment']"
   ]
  },
  {
   "cell_type": "code",
   "execution_count": 166,
   "id": "78089712",
   "metadata": {},
   "outputs": [
    {
     "data": {
      "text/plain": [
       "0    best k great performancei got around battery b...\n",
       "1                                     good perfomence \n",
       "2    great performance usually also gaming laptop i...\n",
       "3                             wife happy best product \n",
       "4    light weight laptop new amazing feature batter...\n",
       "Name: clean_reviews, dtype: object"
      ]
     },
     "execution_count": 166,
     "metadata": {},
     "output_type": "execute_result"
    }
   ],
   "source": [
    "X[:5]"
   ]
  },
  {
   "cell_type": "markdown",
   "id": "e2e7fc8b",
   "metadata": {},
   "source": [
    "### Train test split"
   ]
  },
  {
   "cell_type": "code",
   "execution_count": 167,
   "id": "a88e8738",
   "metadata": {},
   "outputs": [],
   "source": [
    "from sklearn.model_selection import train_test_split\n",
    "x_train,x_test,y_train,y_test=train_test_split(X,y, test_size=0.2, random_state=0)"
   ]
  },
  {
   "cell_type": "markdown",
   "id": "8d5be28d",
   "metadata": {},
   "source": [
    "### Text to numerical vector conversion using Word Embedding"
   ]
  },
  {
   "cell_type": "code",
   "execution_count": 168,
   "id": "77853bab",
   "metadata": {},
   "outputs": [],
   "source": [
    "from keras.preprocessing.text import Tokenizer\n",
    "\n",
    "tokenizer=Tokenizer(num_words=20000)\n",
    "tokenizer.fit_on_texts(x_train)"
   ]
  },
  {
   "cell_type": "code",
   "execution_count": 169,
   "id": "e12d0c07",
   "metadata": {},
   "outputs": [],
   "source": [
    "#text to sequence\n",
    "x_train_seq=tokenizer.texts_to_sequences(x_train)\n",
    "x_test_seq=tokenizer.texts_to_sequences(x_test)"
   ]
  },
  {
   "cell_type": "code",
   "execution_count": 170,
   "id": "2685e7dc",
   "metadata": {},
   "outputs": [
    {
     "name": "stdout",
     "output_type": "stream",
     "text": [
      "best k great performancei got around battery backup bit low thanks rapid charger fast display ok price range decent speaker many customisation optionsvantage software good customisationoverall good performance till nowwill update later problem occurs\n",
      "[324, 491, 1041, 292, 17, 2, 37, 2, 38, 53, 6, 1, 46, 2, 8, 293, 86, 46, 2, 281, 1552, 2, 520, 18, 1553, 1554, 799, 363, 1555, 1556, 606, 1557, 2, 420, 1042, 606, 51, 565, 1558]\n"
     ]
    }
   ],
   "source": [
    "print(x_train[0])\n",
    "print(x_train_seq[0])"
   ]
  },
  {
   "cell_type": "markdown",
   "id": "3b6f399e",
   "metadata": {},
   "source": [
    "#### Using Padding so that all sentence have same length"
   ]
  },
  {
   "cell_type": "code",
   "execution_count": 171,
   "id": "cdafc120",
   "metadata": {},
   "outputs": [
    {
     "data": {
      "text/plain": [
       "65"
      ]
     },
     "execution_count": 171,
     "metadata": {},
     "output_type": "execute_result"
    }
   ],
   "source": [
    "df_copy=df.copy()\n",
    "df_copy['num_words']=df['clean_reviews'].apply(lambda x : len(x.split(\" \")))\n",
    "df_copy['num_words'].max()"
   ]
  },
  {
   "cell_type": "markdown",
   "id": "6a0311c8",
   "metadata": {},
   "source": [
    "**Maximum words in a sentence is 65 so i will take 100 as max_sent_len**"
   ]
  },
  {
   "cell_type": "code",
   "execution_count": 172,
   "id": "dfd1122f",
   "metadata": {},
   "outputs": [],
   "source": [
    "from keras.utils import pad_sequences\n",
    "\n",
    "max_sent_len=100\n",
    "x_train_seq_pad=pad_sequences(x_train_seq, padding=\"post\", maxlen=max_sent_len)\n",
    "x_test_seq_pad=pad_sequences(x_test_seq, padding=\"post\", maxlen=max_sent_len)"
   ]
  },
  {
   "cell_type": "code",
   "execution_count": 173,
   "id": "6c13200e",
   "metadata": {},
   "outputs": [
    {
     "name": "stdout",
     "output_type": "stream",
     "text": [
      "best k great performancei got around battery backup bit low thanks rapid charger fast display ok price range decent speaker many customisation optionsvantage software good customisationoverall good performance till nowwill update later problem occurs\n",
      "[324, 491, 1041, 292, 17, 2, 37, 2, 38, 53, 6, 1, 46, 2, 8, 293, 86, 46, 2, 281, 1552, 2, 520, 18, 1553, 1554, 799, 363, 1555, 1556, 606, 1557, 2, 420, 1042, 606, 51, 565, 1558]\n",
      "[ 324  491 1041  292   17    2   37    2   38   53    6    1   46    2\n",
      "    8  293   86   46    2  281 1552    2  520   18 1553 1554  799  363\n",
      " 1555 1556  606 1557    2  420 1042  606   51  565 1558    0    0    0\n",
      "    0    0    0    0    0    0    0    0    0    0    0    0    0    0\n",
      "    0    0    0    0    0    0    0    0    0    0    0    0    0    0\n",
      "    0    0    0    0    0    0    0    0    0    0    0    0    0    0\n",
      "    0    0    0    0    0    0    0    0    0    0    0    0    0    0\n",
      "    0    0]\n"
     ]
    }
   ],
   "source": [
    "print(x_train[0])\n",
    "print(x_train_seq[0])\n",
    "print(x_train_seq_pad[0])"
   ]
  },
  {
   "cell_type": "markdown",
   "id": "0289d406",
   "metadata": {},
   "source": [
    "#### Process output data"
   ]
  },
  {
   "cell_type": "code",
   "execution_count": 174,
   "id": "c776edd0",
   "metadata": {},
   "outputs": [],
   "source": [
    "from keras.utils import to_categorical\n",
    "y_train_class=to_categorical(y_train, num_classes=2)\n",
    "y_test_class=to_categorical(y_test, num_classes=2)"
   ]
  },
  {
   "cell_type": "code",
   "execution_count": 175,
   "id": "87acf12a",
   "metadata": {},
   "outputs": [
    {
     "data": {
      "text/plain": [
       "array([0., 1.], dtype=float32)"
      ]
     },
     "execution_count": 175,
     "metadata": {},
     "output_type": "execute_result"
    }
   ],
   "source": [
    "y_train_class[0]"
   ]
  },
  {
   "cell_type": "markdown",
   "id": "659508ca",
   "metadata": {},
   "source": [
    "### Preparing to to feed to RNN"
   ]
  },
  {
   "cell_type": "code",
   "execution_count": 176,
   "id": "b150aa0e",
   "metadata": {},
   "outputs": [
    {
     "name": "stdout",
     "output_type": "stream",
     "text": [
      "(1843, 100, 1)\n",
      "(461, 100, 1)\n"
     ]
    }
   ],
   "source": [
    "#reshaping to 3D\n",
    "x_train_seq_pad=np.array(x_train_seq_pad).reshape((x_train_seq_pad.shape[0], x_train_seq_pad.shape[1],1))\n",
    "x_test_seq_pad=np.array(x_test_seq_pad).reshape((x_test_seq_pad.shape[0], x_test_seq_pad.shape[1],1))\n",
    "print(x_train_seq_pad.shape)\n",
    "print(x_test_seq_pad.shape)"
   ]
  },
  {
   "cell_type": "markdown",
   "id": "8d5869c5",
   "metadata": {},
   "source": [
    "### Build RNN model"
   ]
  },
  {
   "cell_type": "code",
   "execution_count": 177,
   "id": "a3bae46d",
   "metadata": {},
   "outputs": [],
   "source": [
    "import keras\n",
    "from keras.models import Sequential\n",
    "from keras.layers import Dense, SimpleRNN, Activation\n",
    "from tensorflow.keras.optimizers import Adam"
   ]
  },
  {
   "cell_type": "code",
   "execution_count": 178,
   "id": "9e456c62",
   "metadata": {},
   "outputs": [
    {
     "name": "stdout",
     "output_type": "stream",
     "text": [
      "Model: \"sequential_13\"\n",
      "_________________________________________________________________\n",
      " Layer (type)                Output Shape              Param #   \n",
      "=================================================================\n",
      " simple_rnn_12 (SimpleRNN)   (None, 10)                120       \n",
      "                                                                 \n",
      " dense_12 (Dense)            (None, 2)                 22        \n",
      "                                                                 \n",
      " activation_12 (Activation)  (None, 2)                 0         \n",
      "                                                                 \n",
      "=================================================================\n",
      "Total params: 142\n",
      "Trainable params: 142\n",
      "Non-trainable params: 0\n",
      "_________________________________________________________________\n"
     ]
    }
   ],
   "source": [
    "model=Sequential()\n",
    "model.add(SimpleRNN(10, input_shape=(100,1)))\n",
    "model.add(Dense(2))\n",
    "model.add(Activation('softmax'))\n",
    "model.compile(loss='binary_crossentropy', optimizer=Adam(learning_rate=0.0001), metrics=['accuracy'])\n",
    "model.summary()"
   ]
  },
  {
   "cell_type": "code",
   "execution_count": 183,
   "id": "ef1bc622",
   "metadata": {
    "scrolled": false
   },
   "outputs": [
    {
     "name": "stdout",
     "output_type": "stream",
     "text": [
      "Epoch 1/10\n",
      "58/58 [==============================] - 3s 54ms/step - loss: 0.5426 - accuracy: 0.8969 - val_loss: 0.5230 - val_accuracy: 0.9132\n",
      "Epoch 2/10\n",
      "58/58 [==============================] - 2s 41ms/step - loss: 0.5204 - accuracy: 0.8969 - val_loss: 0.5007 - val_accuracy: 0.9132\n",
      "Epoch 3/10\n",
      "58/58 [==============================] - 2s 41ms/step - loss: 0.5011 - accuracy: 0.8969 - val_loss: 0.4818 - val_accuracy: 0.9132\n",
      "Epoch 4/10\n",
      "58/58 [==============================] - 2s 38ms/step - loss: 0.4842 - accuracy: 0.8969 - val_loss: 0.4647 - val_accuracy: 0.9132\n",
      "Epoch 5/10\n",
      "58/58 [==============================] - 3s 45ms/step - loss: 0.4690 - accuracy: 0.8969 - val_loss: 0.4495 - val_accuracy: 0.9132\n",
      "Epoch 6/10\n",
      "58/58 [==============================] - 2s 42ms/step - loss: 0.4555 - accuracy: 0.8969 - val_loss: 0.4353 - val_accuracy: 0.9132\n",
      "Epoch 7/10\n",
      "58/58 [==============================] - 2s 40ms/step - loss: 0.4431 - accuracy: 0.8969 - val_loss: 0.4227 - val_accuracy: 0.9132\n",
      "Epoch 8/10\n",
      "58/58 [==============================] - 2s 39ms/step - loss: 0.4319 - accuracy: 0.8969 - val_loss: 0.4110 - val_accuracy: 0.9132\n",
      "Epoch 9/10\n",
      "58/58 [==============================] - 2s 38ms/step - loss: 0.4217 - accuracy: 0.8969 - val_loss: 0.4004 - val_accuracy: 0.9132\n",
      "Epoch 10/10\n",
      "58/58 [==============================] - 2s 39ms/step - loss: 0.4124 - accuracy: 0.8969 - val_loss: 0.3906 - val_accuracy: 0.9132\n"
     ]
    },
    {
     "data": {
      "text/plain": [
       "<keras.callbacks.History at 0x14316e74c10>"
      ]
     },
     "execution_count": 183,
     "metadata": {},
     "output_type": "execute_result"
    }
   ],
   "source": [
    "from keras.wrappers.scikit_learn import KerasClassifier\n",
    "model.fit(x_train_seq_pad, y_train_class, epochs=10, batch_size=32, validation_data=(x_test_seq_pad, y_test_class))"
   ]
  },
  {
   "cell_type": "code",
   "execution_count": 184,
   "id": "d7698e88",
   "metadata": {},
   "outputs": [
    {
     "name": "stdout",
     "output_type": "stream",
     "text": [
      "15/15 [==============================] - 0s 12ms/step\n"
     ]
    }
   ],
   "source": [
    "y_pred=np.argmax(model.predict(x_test_seq_pad), axis=-1)"
   ]
  },
  {
   "cell_type": "code",
   "execution_count": 185,
   "id": "f343219f",
   "metadata": {},
   "outputs": [
    {
     "data": {
      "text/plain": [
       "array([1, 1, 1, 1, 1, 1, 1, 1, 1, 1, 1, 1, 1, 1, 1, 1, 1, 1, 1, 1, 1, 1,\n",
       "       1, 1, 1, 1, 1, 1, 1, 1, 1, 1, 1, 1, 1, 1, 1, 1, 1, 1, 1, 1, 1, 1,\n",
       "       1, 1, 1, 1, 1, 1, 1, 1, 1, 1, 1, 1, 1, 1, 1, 1, 1, 1, 1, 1, 1, 1,\n",
       "       1, 1, 1, 1, 1, 1, 1, 1, 1, 1, 1, 1, 1, 1, 1, 1, 1, 1, 1, 1, 1, 1,\n",
       "       1, 1, 1, 1, 1, 1, 1, 1, 1, 1, 1, 1, 1, 1, 1, 1, 1, 1, 1, 1, 1, 1,\n",
       "       1, 1, 1, 1, 1, 1, 1, 1, 1, 1, 1, 1, 1, 1, 1, 1, 1, 1, 1, 1, 1, 1,\n",
       "       1, 1, 1, 1, 1, 1, 1, 1, 1, 1, 1, 1, 1, 1, 1, 1, 1, 1, 1, 1, 1, 1,\n",
       "       1, 1, 1, 1, 1, 1, 1, 1, 1, 1, 1, 1, 1, 1, 1, 1, 1, 1, 1, 1, 1, 1,\n",
       "       1, 1, 1, 1, 1, 1, 1, 1, 1, 1, 1, 1, 1, 1, 1, 1, 1, 1, 1, 1, 1, 1,\n",
       "       1, 1, 1, 1, 1, 1, 1, 1, 1, 1, 1, 1, 1, 1, 1, 1, 1, 1, 1, 1, 1, 1,\n",
       "       1, 1, 1, 1, 1, 1, 1, 1, 1, 1, 1, 1, 1, 1, 1, 1, 1, 1, 1, 1, 1, 1,\n",
       "       1, 1, 1, 1, 1, 1, 1, 1, 1, 1, 1, 1, 1, 1, 1, 1, 1, 1, 1, 1, 1, 1,\n",
       "       1, 1, 1, 1, 1, 1, 1, 1, 1, 1, 1, 1, 1, 1, 1, 1, 1, 1, 1, 1, 1, 1,\n",
       "       1, 1, 1, 1, 1, 1, 1, 1, 1, 1, 1, 1, 1, 1, 1, 1, 1, 1, 1, 1, 1, 1,\n",
       "       1, 1, 1, 1, 1, 1, 1, 1, 1, 1, 1, 1, 1, 1, 1, 1, 1, 1, 1, 1, 1, 1,\n",
       "       1, 1, 1, 1, 1, 1, 1, 1, 1, 1, 1, 1, 1, 1, 1, 1, 1, 1, 1, 1, 1, 1,\n",
       "       1, 1, 1, 1, 1, 1, 1, 1, 1, 1, 1, 1, 1, 1, 1, 1, 1, 1, 1, 1, 1, 1,\n",
       "       1, 1, 1, 1, 1, 1, 1, 1, 1, 1, 1, 1, 1, 1, 1, 1, 1, 1, 1, 1, 1, 1,\n",
       "       1, 1, 1, 1, 1, 1, 1, 1, 1, 1, 1, 1, 1, 1, 1, 1, 1, 1, 1, 1, 1, 1,\n",
       "       1, 1, 1, 1, 1, 1, 1, 1, 1, 1, 1, 1, 1, 1, 1, 1, 1, 1, 1, 1, 1, 1,\n",
       "       1, 1, 1, 1, 1, 1, 1, 1, 1, 1, 1, 1, 1, 1, 1, 1, 1, 1, 1, 1, 1],\n",
       "      dtype=int64)"
      ]
     },
     "execution_count": 185,
     "metadata": {},
     "output_type": "execute_result"
    }
   ],
   "source": [
    "y_pred"
   ]
  },
  {
   "cell_type": "code",
   "execution_count": 187,
   "id": "e445fcf3",
   "metadata": {},
   "outputs": [
    {
     "name": "stdout",
     "output_type": "stream",
     "text": [
      "              precision    recall  f1-score   support\n",
      "\n",
      "           0       0.00      0.00      0.00         0\n",
      "           1       1.00      0.91      0.95       461\n",
      "\n",
      "    accuracy                           0.91       461\n",
      "   macro avg       0.50      0.46      0.48       461\n",
      "weighted avg       1.00      0.91      0.95       461\n",
      "\n"
     ]
    }
   ],
   "source": [
    "from sklearn.metrics import classification_report\n",
    "print(classification_report(y_pred, y_test))"
   ]
  },
  {
   "cell_type": "code",
   "execution_count": null,
   "id": "66a559de",
   "metadata": {},
   "outputs": [],
   "source": []
  },
  {
   "cell_type": "markdown",
   "id": "16a44761",
   "metadata": {},
   "source": [
    "### MLFLOW"
   ]
  },
  {
   "cell_type": "code",
   "execution_count": 190,
   "id": "ade8f2ad",
   "metadata": {},
   "outputs": [
    {
     "name": "stdout",
     "output_type": "stream",
     "text": [
      "Epoch 1/10\n",
      "58/58 [==============================] - 9s 62ms/step - loss: 0.6892 - accuracy: 0.5421 - val_loss: 0.6831 - val_accuracy: 0.6204\n",
      "Epoch 2/10\n",
      "58/58 [==============================] - 2s 43ms/step - loss: 0.6800 - accuracy: 0.6375 - val_loss: 0.6746 - val_accuracy: 0.6963\n",
      "Epoch 3/10\n",
      "58/58 [==============================] - 2s 40ms/step - loss: 0.6716 - accuracy: 0.7119 - val_loss: 0.6657 - val_accuracy: 0.7484\n",
      "Epoch 4/10\n",
      "58/58 [==============================] - 2s 39ms/step - loss: 0.6627 - accuracy: 0.7580 - val_loss: 0.6559 - val_accuracy: 0.7874\n",
      "Epoch 5/10\n",
      "58/58 [==============================] - 2s 39ms/step - loss: 0.6535 - accuracy: 0.8020 - val_loss: 0.6453 - val_accuracy: 0.8525\n",
      "Epoch 6/10\n",
      "58/58 [==============================] - 2s 41ms/step - loss: 0.6435 - accuracy: 0.8302 - val_loss: 0.6345 - val_accuracy: 0.8590\n",
      "Epoch 7/10\n",
      "58/58 [==============================] - 2s 40ms/step - loss: 0.6334 - accuracy: 0.8540 - val_loss: 0.6234 - val_accuracy: 0.8764\n",
      "Epoch 8/10\n",
      "58/58 [==============================] - 2s 42ms/step - loss: 0.6224 - accuracy: 0.8692 - val_loss: 0.6116 - val_accuracy: 0.9002\n",
      "Epoch 9/10\n",
      "58/58 [==============================] - 2s 40ms/step - loss: 0.6106 - accuracy: 0.8855 - val_loss: 0.5989 - val_accuracy: 0.9067\n",
      "Epoch 10/10\n",
      "58/58 [==============================] - 2s 42ms/step - loss: 0.5973 - accuracy: 0.8947 - val_loss: 0.5846 - val_accuracy: 0.9132\n",
      "15/15 [==============================] - 1s 13ms/step\n"
     ]
    }
   ],
   "source": [
    "import mlflow\n",
    "from sklearn.metrics import accuracy_score, precision_score, recall_score\n",
    "with mlflow.start_run():\n",
    "    model=Sequential()\n",
    "    model.add(SimpleRNN(10, input_shape=(100,1)))\n",
    "    model.add(Dense(2))\n",
    "    model.add(Activation('softmax'))\n",
    "    model.compile(loss='binary_crossentropy', optimizer=Adam(learning_rate=0.0001), metrics=['accuracy'])\n",
    "    model.fit(x_train_seq_pad, y_train_class, epochs=10, batch_size=32, validation_data=(x_test_seq_pad, y_test_class))\n",
    "    model.save(\"rnn_flipkart_review.h5\")\n",
    "    \n",
    "    y_pred=np.argmax(model.predict(x_test_seq_pad), axis=-1)\n",
    "    acc=accuracy_score(y_test,y_pred)\n",
    "    precision=precision_score(y_test,y_pred)\n",
    "    recall=recall_score(y_test,y_pred)\n",
    "    mlflow.log_metrics({\"Accuracy\":acc, \"Precision\":precision, \"Recall\":recall})"
   ]
  },
  {
   "cell_type": "code",
   "execution_count": null,
   "id": "fdc272b8",
   "metadata": {},
   "outputs": [],
   "source": []
  }
 ],
 "metadata": {
  "kernelspec": {
   "display_name": "Python 3 (ipykernel)",
   "language": "python",
   "name": "python3"
  },
  "language_info": {
   "codemirror_mode": {
    "name": "ipython",
    "version": 3
   },
   "file_extension": ".py",
   "mimetype": "text/x-python",
   "name": "python",
   "nbconvert_exporter": "python",
   "pygments_lexer": "ipython3",
   "version": "3.9.7"
  }
 },
 "nbformat": 4,
 "nbformat_minor": 5
}
