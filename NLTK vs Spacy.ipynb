{
 "cells": [
  {
   "cell_type": "markdown",
   "id": "b98621dd",
   "metadata": {},
   "source": [
    "## Spacy"
   ]
  },
  {
   "cell_type": "code",
   "execution_count": 16,
   "id": "06faa364",
   "metadata": {
    "scrolled": true
   },
   "outputs": [],
   "source": [
    "import spacy"
   ]
  },
  {
   "cell_type": "markdown",
   "id": "70afda34",
   "metadata": {},
   "source": [
    "### Sentence Tokenization"
   ]
  },
  {
   "cell_type": "code",
   "execution_count": 8,
   "id": "ddae1414",
   "metadata": {},
   "outputs": [
    {
     "name": "stdout",
     "output_type": "stream",
     "text": [
      "Mr. Suraj is nice person but he is rude.\n",
      "Where as Miss. Suman is rude but talk too much\n"
     ]
    }
   ],
   "source": [
    "nlp=spacy.load(\"en_core_web_sm\")\n",
    "doc=nlp(\"Mr. Suraj is nice person but he is rude. Where as Miss. Suman is rude but talk too much\")\n",
    "for sentence in doc.sents:\n",
    "    print(sentence)"
   ]
  },
  {
   "cell_type": "markdown",
   "id": "f27f93bb",
   "metadata": {},
   "source": [
    "### Word Tokenization"
   ]
  },
  {
   "cell_type": "code",
   "execution_count": 9,
   "id": "283198ce",
   "metadata": {},
   "outputs": [
    {
     "name": "stdout",
     "output_type": "stream",
     "text": [
      "Mr.\n",
      "Suraj\n",
      "is\n",
      "nice\n",
      "person\n",
      "but\n",
      "he\n",
      "is\n",
      "rude\n",
      ".\n",
      "Where\n",
      "as\n",
      "Miss.\n",
      "Suman\n",
      "is\n",
      "rude\n",
      "but\n",
      "talk\n",
      "too\n",
      "much\n"
     ]
    }
   ],
   "source": [
    "for sentence in doc.sents:\n",
    "    for word in sentence:\n",
    "        print(word)"
   ]
  },
  {
   "cell_type": "markdown",
   "id": "49fd62f3",
   "metadata": {},
   "source": [
    "### POS Tagging"
   ]
  },
  {
   "cell_type": "code",
   "execution_count": 13,
   "id": "7723b2db",
   "metadata": {},
   "outputs": [
    {
     "data": {
      "text/plain": [
       "96"
      ]
     },
     "execution_count": 13,
     "metadata": {},
     "output_type": "execute_result"
    }
   ],
   "source": [
    "doc[0].pos"
   ]
  },
  {
   "cell_type": "code",
   "execution_count": null,
   "id": "21af56f4",
   "metadata": {},
   "outputs": [],
   "source": []
  },
  {
   "cell_type": "markdown",
   "id": "50b8788f",
   "metadata": {},
   "source": [
    "## NLTK"
   ]
  },
  {
   "cell_type": "code",
   "execution_count": 10,
   "id": "7fb628a1",
   "metadata": {},
   "outputs": [],
   "source": [
    "import nltk"
   ]
  },
  {
   "cell_type": "markdown",
   "id": "9ed25be2",
   "metadata": {},
   "source": [
    "### Sentence Tokenization"
   ]
  },
  {
   "cell_type": "code",
   "execution_count": 11,
   "id": "d6470abc",
   "metadata": {},
   "outputs": [
    {
     "data": {
      "text/plain": [
       "['Mr. Suraj is nice person but he is rude.',\n",
       " 'Where as Miss.',\n",
       " 'Suman is rude but talk too much']"
      ]
     },
     "execution_count": 11,
     "metadata": {},
     "output_type": "execute_result"
    }
   ],
   "source": [
    "from nltk.tokenize import sent_tokenize\n",
    "\n",
    "sent_tokenize(\"Mr. Suraj is nice person but he is rude. Where as Miss. Suman is rude but talk too much\")"
   ]
  },
  {
   "cell_type": "markdown",
   "id": "68517eaf",
   "metadata": {},
   "source": [
    "### Word Tokenization"
   ]
  },
  {
   "cell_type": "code",
   "execution_count": 14,
   "id": "07a9381d",
   "metadata": {},
   "outputs": [
    {
     "data": {
      "text/plain": [
       "['Mr.',\n",
       " 'Suraj',\n",
       " 'is',\n",
       " 'nice',\n",
       " 'person',\n",
       " 'but',\n",
       " 'he',\n",
       " 'is',\n",
       " 'rude',\n",
       " '.',\n",
       " 'Where',\n",
       " 'as',\n",
       " 'Miss',\n",
       " '.',\n",
       " 'Suman',\n",
       " 'is',\n",
       " 'rude',\n",
       " 'but',\n",
       " 'talk',\n",
       " 'too',\n",
       " 'much']"
      ]
     },
     "execution_count": 14,
     "metadata": {},
     "output_type": "execute_result"
    }
   ],
   "source": [
    "from nltk.tokenize import word_tokenize\n",
    "\n",
    "word=word_tokenize(\"Mr. Suraj is nice person but he is rude. Where as Miss. Suman is rude but talk too much\")\n",
    "word"
   ]
  },
  {
   "cell_type": "markdown",
   "id": "3dc9aa91",
   "metadata": {},
   "source": [
    "### POS Tagging"
   ]
  },
  {
   "cell_type": "code",
   "execution_count": 15,
   "id": "db3a4efe",
   "metadata": {},
   "outputs": [
    {
     "data": {
      "text/plain": [
       "[('Mr.', 'NNP'),\n",
       " ('Suraj', 'NNP'),\n",
       " ('is', 'VBZ'),\n",
       " ('nice', 'JJ'),\n",
       " ('person', 'NN'),\n",
       " ('but', 'CC'),\n",
       " ('he', 'PRP'),\n",
       " ('is', 'VBZ'),\n",
       " ('rude', 'JJ'),\n",
       " ('.', '.'),\n",
       " ('Where', 'WRB'),\n",
       " ('as', 'IN'),\n",
       " ('Miss', 'NNP'),\n",
       " ('.', '.'),\n",
       " ('Suman', 'NNP'),\n",
       " ('is', 'VBZ'),\n",
       " ('rude', 'JJ'),\n",
       " ('but', 'CC'),\n",
       " ('talk', 'VB'),\n",
       " ('too', 'RB'),\n",
       " ('much', 'JJ')]"
      ]
     },
     "execution_count": 15,
     "metadata": {},
     "output_type": "execute_result"
    }
   ],
   "source": [
    "nltk.pos_tag(word)"
   ]
  },
  {
   "cell_type": "code",
   "execution_count": null,
   "id": "b0db27ce",
   "metadata": {},
   "outputs": [],
   "source": []
  },
  {
   "cell_type": "markdown",
   "id": "321f60a5",
   "metadata": {},
   "source": [
    "## Spacy Vs NLTK"
   ]
  },
  {
   "attachments": {
    "main-qimg-0a2f519557dead772f74a02aa267f431.webp": {
     "image/webp": "[encoded data removed]"
    }
   },
   "cell_type": "markdown",
   "id": "1585b4bd",
   "metadata": {},
   "source": [
    "![main-qimg-0a2f519557dead772f74a02aa267f431.webp](attachment:main-qimg-0a2f519557dead772f74a02aa267f431.webp)"
   ]
  },
  {
   "cell_type": "code",
   "execution_count": null,
   "id": "335dfae7",
   "metadata": {},
   "outputs": [],
   "source": []
  }
 ],
 "metadata": {
  "kernelspec": {
   "display_name": "python3.11",
   "language": "python",
   "name": "python3.11"
  },
  "language_info": {
   "codemirror_mode": {
    "name": "ipython",
    "version": 3
   },
   "file_extension": ".py",
   "mimetype": "text/x-python",
   "name": "python",
   "nbconvert_exporter": "python",
   "pygments_lexer": "ipython3",
   "version": "3.9.7"
  }
 },
 "nbformat": 4,
 "nbformat_minor": 5
}
