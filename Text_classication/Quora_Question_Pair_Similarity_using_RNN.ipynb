{
 "cells": [
  {
   "cell_type": "markdown",
   "id": "a62ba7fc",
   "metadata": {},
   "source": [
    "## Problem Statement\n",
    "### Quora is a question answer platform where we can find many answers to our question. Since there are many questions posted on quora hence they are facing duplicacy problem. Quora want to create classification problem where they can classify all the similar type question under merge the answer for those question."
   ]
  },
  {
   "cell_type": "markdown",
   "id": "f697743e",
   "metadata": {},
   "source": [
    "### Import library"
   ]
  },
  {
   "cell_type": "code",
   "execution_count": 30,
   "id": "af085998",
   "metadata": {},
   "outputs": [],
   "source": [
    "import pandas as pd\n",
    "import numpy as np\n",
    "import matplotlib.pyplot as plt\n",
    "import seaborn as sns\n",
    "import warnings\n",
    "warnings.filterwarnings('ignore')"
   ]
  },
  {
   "cell_type": "markdown",
   "id": "1a18defa",
   "metadata": {},
   "source": [
    "### Load the datastet"
   ]
  },
  {
   "cell_type": "code",
   "execution_count": 31,
   "id": "ca69ba41",
   "metadata": {
    "scrolled": true
   },
   "outputs": [
    {
     "data": {
      "text/html": [
       "<div>\n",
       "<style scoped>\n",
       "    .dataframe tbody tr th:only-of-type {\n",
       "        vertical-align: middle;\n",
       "    }\n",
       "\n",
       "    .dataframe tbody tr th {\n",
       "        vertical-align: top;\n",
       "    }\n",
       "\n",
       "    .dataframe thead th {\n",
       "        text-align: right;\n",
       "    }\n",
       "</style>\n",
       "<table border=\"1\" class=\"dataframe\">\n",
       "  <thead>\n",
       "    <tr style=\"text-align: right;\">\n",
       "      <th></th>\n",
       "      <th>id</th>\n",
       "      <th>qid1</th>\n",
       "      <th>qid2</th>\n",
       "      <th>question1</th>\n",
       "      <th>question2</th>\n",
       "      <th>is_duplicate</th>\n",
       "    </tr>\n",
       "  </thead>\n",
       "  <tbody>\n",
       "    <tr>\n",
       "      <th>0</th>\n",
       "      <td>0</td>\n",
       "      <td>1</td>\n",
       "      <td>2</td>\n",
       "      <td>What is the step by step guide to invest in sh...</td>\n",
       "      <td>What is the step by step guide to invest in sh...</td>\n",
       "      <td>0</td>\n",
       "    </tr>\n",
       "    <tr>\n",
       "      <th>1</th>\n",
       "      <td>1</td>\n",
       "      <td>3</td>\n",
       "      <td>4</td>\n",
       "      <td>What is the story of Kohinoor (Koh-i-Noor) Dia...</td>\n",
       "      <td>What would happen if the Indian government sto...</td>\n",
       "      <td>0</td>\n",
       "    </tr>\n",
       "    <tr>\n",
       "      <th>2</th>\n",
       "      <td>2</td>\n",
       "      <td>5</td>\n",
       "      <td>6</td>\n",
       "      <td>How can I increase the speed of my internet co...</td>\n",
       "      <td>How can Internet speed be increased by hacking...</td>\n",
       "      <td>0</td>\n",
       "    </tr>\n",
       "    <tr>\n",
       "      <th>3</th>\n",
       "      <td>3</td>\n",
       "      <td>7</td>\n",
       "      <td>8</td>\n",
       "      <td>Why am I mentally very lonely? How can I solve...</td>\n",
       "      <td>Find the remainder when [math]23^{24}[/math] i...</td>\n",
       "      <td>0</td>\n",
       "    </tr>\n",
       "    <tr>\n",
       "      <th>4</th>\n",
       "      <td>4</td>\n",
       "      <td>9</td>\n",
       "      <td>10</td>\n",
       "      <td>Which one dissolve in water quikly sugar, salt...</td>\n",
       "      <td>Which fish would survive in salt water?</td>\n",
       "      <td>0</td>\n",
       "    </tr>\n",
       "  </tbody>\n",
       "</table>\n",
       "</div>"
      ],
      "text/plain": [
       "   id  qid1  qid2                                          question1  \\\n",
       "0   0     1     2  What is the step by step guide to invest in sh...   \n",
       "1   1     3     4  What is the story of Kohinoor (Koh-i-Noor) Dia...   \n",
       "2   2     5     6  How can I increase the speed of my internet co...   \n",
       "3   3     7     8  Why am I mentally very lonely? How can I solve...   \n",
       "4   4     9    10  Which one dissolve in water quikly sugar, salt...   \n",
       "\n",
       "                                           question2  is_duplicate  \n",
       "0  What is the step by step guide to invest in sh...             0  \n",
       "1  What would happen if the Indian government sto...             0  \n",
       "2  How can Internet speed be increased by hacking...             0  \n",
       "3  Find the remainder when [math]23^{24}[/math] i...             0  \n",
       "4            Which fish would survive in salt water?             0  "
      ]
     },
     "execution_count": 31,
     "metadata": {},
     "output_type": "execute_result"
    }
   ],
   "source": [
    "df=pd.read_csv(\"D:\\DATA SCIENCE Internship with Innomatics\\Final_ Project_Quora_Question_Pair_Similarity\\data\\\\train.csv\")\n",
    "df.head()"
   ]
  },
  {
   "cell_type": "markdown",
   "id": "79d26435",
   "metadata": {},
   "source": [
    "### Dataset information"
   ]
  },
  {
   "cell_type": "code",
   "execution_count": 32,
   "id": "4e235cf5",
   "metadata": {},
   "outputs": [
    {
     "data": {
      "text/plain": [
       "(404290, 6)"
      ]
     },
     "execution_count": 32,
     "metadata": {},
     "output_type": "execute_result"
    }
   ],
   "source": [
    "df.shape"
   ]
  },
  {
   "cell_type": "code",
   "execution_count": 33,
   "id": "70a77e67",
   "metadata": {},
   "outputs": [
    {
     "data": {
      "text/plain": [
       "Index(['id', 'qid1', 'qid2', 'question1', 'question2', 'is_duplicate'], dtype='object')"
      ]
     },
     "execution_count": 33,
     "metadata": {},
     "output_type": "execute_result"
    }
   ],
   "source": [
    "df.columns"
   ]
  },
  {
   "cell_type": "code",
   "execution_count": 34,
   "id": "ffc76f04",
   "metadata": {},
   "outputs": [
    {
     "name": "stdout",
     "output_type": "stream",
     "text": [
      "<class 'pandas.core.frame.DataFrame'>\n",
      "RangeIndex: 404290 entries, 0 to 404289\n",
      "Data columns (total 6 columns):\n",
      " #   Column        Non-Null Count   Dtype \n",
      "---  ------        --------------   ----- \n",
      " 0   id            404290 non-null  int64 \n",
      " 1   qid1          404290 non-null  int64 \n",
      " 2   qid2          404290 non-null  int64 \n",
      " 3   question1     404289 non-null  object\n",
      " 4   question2     404288 non-null  object\n",
      " 5   is_duplicate  404290 non-null  int64 \n",
      "dtypes: int64(4), object(2)\n",
      "memory usage: 18.5+ MB\n"
     ]
    }
   ],
   "source": [
    "df.info()"
   ]
  },
  {
   "cell_type": "markdown",
   "id": "1af7e3ba",
   "metadata": {},
   "source": [
    "#### Since there are 400000 rows we are going to work on sample of sample size=10000"
   ]
  },
  {
   "cell_type": "code",
   "execution_count": 59,
   "id": "c3d7d46d",
   "metadata": {
    "scrolled": true
   },
   "outputs": [
    {
     "data": {
      "text/html": [
       "<div>\n",
       "<style scoped>\n",
       "    .dataframe tbody tr th:only-of-type {\n",
       "        vertical-align: middle;\n",
       "    }\n",
       "\n",
       "    .dataframe tbody tr th {\n",
       "        vertical-align: top;\n",
       "    }\n",
       "\n",
       "    .dataframe thead th {\n",
       "        text-align: right;\n",
       "    }\n",
       "</style>\n",
       "<table border=\"1\" class=\"dataframe\">\n",
       "  <thead>\n",
       "    <tr style=\"text-align: right;\">\n",
       "      <th></th>\n",
       "      <th>id</th>\n",
       "      <th>qid1</th>\n",
       "      <th>qid2</th>\n",
       "      <th>question1</th>\n",
       "      <th>question2</th>\n",
       "      <th>is_duplicate</th>\n",
       "    </tr>\n",
       "  </thead>\n",
       "  <tbody>\n",
       "    <tr>\n",
       "      <th>0</th>\n",
       "      <td>238973</td>\n",
       "      <td>10001</td>\n",
       "      <td>350466</td>\n",
       "      <td>How do you pronounce the name of the Danish si...</td>\n",
       "      <td>How do you pronounce the Danish last name Damk...</td>\n",
       "      <td>0</td>\n",
       "    </tr>\n",
       "    <tr>\n",
       "      <th>1</th>\n",
       "      <td>171471</td>\n",
       "      <td>264932</td>\n",
       "      <td>264933</td>\n",
       "      <td>Why do Christians believe in Jesus and that he...</td>\n",
       "      <td>What is the minimum age for girls to get marri...</td>\n",
       "      <td>0</td>\n",
       "    </tr>\n",
       "    <tr>\n",
       "      <th>2</th>\n",
       "      <td>22640</td>\n",
       "      <td>42469</td>\n",
       "      <td>42470</td>\n",
       "      <td>What are the best ways to fake your own death?</td>\n",
       "      <td>What are the worst ways to fake one's own death?</td>\n",
       "      <td>0</td>\n",
       "    </tr>\n",
       "    <tr>\n",
       "      <th>3</th>\n",
       "      <td>69202</td>\n",
       "      <td>119440</td>\n",
       "      <td>32667</td>\n",
       "      <td>I feel fear all the time. How can I get rid of...</td>\n",
       "      <td>How can I get rid of fear?</td>\n",
       "      <td>1</td>\n",
       "    </tr>\n",
       "    <tr>\n",
       "      <th>4</th>\n",
       "      <td>399748</td>\n",
       "      <td>533051</td>\n",
       "      <td>533052</td>\n",
       "      <td>What's it like to be the assistant of a female...</td>\n",
       "      <td>How is the career growth of an as assistant vi...</td>\n",
       "      <td>0</td>\n",
       "    </tr>\n",
       "  </tbody>\n",
       "</table>\n",
       "</div>"
      ],
      "text/plain": [
       "       id    qid1    qid2                                          question1  \\\n",
       "0  238973   10001  350466  How do you pronounce the name of the Danish si...   \n",
       "1  171471  264932  264933  Why do Christians believe in Jesus and that he...   \n",
       "2   22640   42469   42470     What are the best ways to fake your own death?   \n",
       "3   69202  119440   32667  I feel fear all the time. How can I get rid of...   \n",
       "4  399748  533051  533052  What's it like to be the assistant of a female...   \n",
       "\n",
       "                                           question2  is_duplicate  \n",
       "0  How do you pronounce the Danish last name Damk...             0  \n",
       "1  What is the minimum age for girls to get marri...             0  \n",
       "2   What are the worst ways to fake one's own death?             0  \n",
       "3                         How can I get rid of fear?             1  \n",
       "4  How is the career growth of an as assistant vi...             0  "
      ]
     },
     "execution_count": 59,
     "metadata": {},
     "output_type": "execute_result"
    }
   ],
   "source": [
    "data=df.sample(10000, random_state=50, ignore_index=True)\n",
    "data.head()"
   ]
  },
  {
   "cell_type": "code",
   "execution_count": 36,
   "id": "80eff780",
   "metadata": {},
   "outputs": [
    {
     "data": {
      "text/plain": [
       "(10000, 6)"
      ]
     },
     "execution_count": 36,
     "metadata": {},
     "output_type": "execute_result"
    }
   ],
   "source": [
    "data.shape"
   ]
  },
  {
   "cell_type": "markdown",
   "id": "f119e993",
   "metadata": {},
   "source": [
    "#### Drop unwanted column"
   ]
  },
  {
   "cell_type": "code",
   "execution_count": 60,
   "id": "66cafc26",
   "metadata": {},
   "outputs": [
    {
     "data": {
      "text/plain": [
       "Index(['question1', 'question2', 'is_duplicate'], dtype='object')"
      ]
     },
     "execution_count": 60,
     "metadata": {},
     "output_type": "execute_result"
    }
   ],
   "source": [
    "data.drop(['id','qid1','qid2'], axis=1, inplace=True)\n",
    "data.columns"
   ]
  },
  {
   "cell_type": "markdown",
   "id": "43c90b26",
   "metadata": {},
   "source": [
    "### Missing values"
   ]
  },
  {
   "cell_type": "code",
   "execution_count": 38,
   "id": "0f8dfe86",
   "metadata": {},
   "outputs": [
    {
     "data": {
      "text/plain": [
       "question1       0\n",
       "question2       0\n",
       "is_duplicate    0\n",
       "dtype: int64"
      ]
     },
     "execution_count": 38,
     "metadata": {},
     "output_type": "execute_result"
    }
   ],
   "source": [
    "data.isna().sum()"
   ]
  },
  {
   "cell_type": "markdown",
   "id": "54536c68",
   "metadata": {},
   "source": [
    "### Duplicate rows"
   ]
  },
  {
   "cell_type": "code",
   "execution_count": 39,
   "id": "a8932389",
   "metadata": {},
   "outputs": [
    {
     "data": {
      "text/plain": [
       "0"
      ]
     },
     "execution_count": 39,
     "metadata": {},
     "output_type": "execute_result"
    }
   ],
   "source": [
    "data.duplicated().sum()"
   ]
  },
  {
   "cell_type": "markdown",
   "id": "c06c3284",
   "metadata": {},
   "source": [
    "### Class Imbalance check"
   ]
  },
  {
   "cell_type": "code",
   "execution_count": 40,
   "id": "ef6a69b4",
   "metadata": {},
   "outputs": [
    {
     "data": {
      "text/plain": [
       "0    6249\n",
       "1    3751\n",
       "Name: is_duplicate, dtype: int64"
      ]
     },
     "execution_count": 40,
     "metadata": {},
     "output_type": "execute_result"
    }
   ],
   "source": [
    "data['is_duplicate'].value_counts()"
   ]
  },
  {
   "cell_type": "markdown",
   "id": "a8613192",
   "metadata": {},
   "source": [
    "### Text preprocessing"
   ]
  },
  {
   "cell_type": "code",
   "execution_count": 41,
   "id": "765f59dd",
   "metadata": {},
   "outputs": [],
   "source": [
    "import re\n",
    "import nltk\n",
    "from nltk.stem import WordNetLemmatizer\n",
    "from nltk.corpus import stopwords\n",
    "from nltk.tokenize import word_tokenize\n",
    "lemma=WordNetLemmatizer()\n",
    "stopwords=stopwords.words('english')"
   ]
  },
  {
   "cell_type": "code",
   "execution_count": 42,
   "id": "91bc21bc",
   "metadata": {},
   "outputs": [
    {
     "data": {
      "text/html": [
       "<div>\n",
       "<style scoped>\n",
       "    .dataframe tbody tr th:only-of-type {\n",
       "        vertical-align: middle;\n",
       "    }\n",
       "\n",
       "    .dataframe tbody tr th {\n",
       "        vertical-align: top;\n",
       "    }\n",
       "\n",
       "    .dataframe thead th {\n",
       "        text-align: right;\n",
       "    }\n",
       "</style>\n",
       "<table border=\"1\" class=\"dataframe\">\n",
       "  <thead>\n",
       "    <tr style=\"text-align: right;\">\n",
       "      <th></th>\n",
       "      <th>question1</th>\n",
       "      <th>question2</th>\n",
       "      <th>is_duplicate</th>\n",
       "      <th>clean_que1</th>\n",
       "      <th>clean_que2</th>\n",
       "    </tr>\n",
       "  </thead>\n",
       "  <tbody>\n",
       "    <tr>\n",
       "      <th>0</th>\n",
       "      <td>How do you pronounce the name of the Danish si...</td>\n",
       "      <td>How do you pronounce the Danish last name Damk...</td>\n",
       "      <td>0</td>\n",
       "      <td>pronounce name danish singer english</td>\n",
       "      <td>pronounce danish last name damkj r</td>\n",
       "    </tr>\n",
       "    <tr>\n",
       "      <th>1</th>\n",
       "      <td>Why do Christians believe in Jesus and that he...</td>\n",
       "      <td>What is the minimum age for girls to get marri...</td>\n",
       "      <td>0</td>\n",
       "      <td>christian believe jesus magical</td>\n",
       "      <td>minimum age girl get married islamic republic ...</td>\n",
       "    </tr>\n",
       "    <tr>\n",
       "      <th>2</th>\n",
       "      <td>What are the best ways to fake your own death?</td>\n",
       "      <td>What are the worst ways to fake one's own death?</td>\n",
       "      <td>0</td>\n",
       "      <td>best way fake death</td>\n",
       "      <td>worst way fake one death</td>\n",
       "    </tr>\n",
       "    <tr>\n",
       "      <th>3</th>\n",
       "      <td>I feel fear all the time. How can I get rid of...</td>\n",
       "      <td>How can I get rid of fear?</td>\n",
       "      <td>1</td>\n",
       "      <td>feel fear time get rid</td>\n",
       "      <td>get rid fear</td>\n",
       "    </tr>\n",
       "    <tr>\n",
       "      <th>4</th>\n",
       "      <td>What's it like to be the assistant of a female...</td>\n",
       "      <td>How is the career growth of an as assistant vi...</td>\n",
       "      <td>0</td>\n",
       "      <td>like assistant female pornstar</td>\n",
       "      <td>career growth assistant vigilance officer e b</td>\n",
       "    </tr>\n",
       "  </tbody>\n",
       "</table>\n",
       "</div>"
      ],
      "text/plain": [
       "                                           question1  \\\n",
       "0  How do you pronounce the name of the Danish si...   \n",
       "1  Why do Christians believe in Jesus and that he...   \n",
       "2     What are the best ways to fake your own death?   \n",
       "3  I feel fear all the time. How can I get rid of...   \n",
       "4  What's it like to be the assistant of a female...   \n",
       "\n",
       "                                           question2  is_duplicate  \\\n",
       "0  How do you pronounce the Danish last name Damk...             0   \n",
       "1  What is the minimum age for girls to get marri...             0   \n",
       "2   What are the worst ways to fake one's own death?             0   \n",
       "3                         How can I get rid of fear?             1   \n",
       "4  How is the career growth of an as assistant vi...             0   \n",
       "\n",
       "                              clean_que1  \\\n",
       "0  pronounce name danish singer english    \n",
       "1       christian believe jesus magical    \n",
       "2                   best way fake death    \n",
       "3                feel fear time get rid    \n",
       "4        like assistant female pornstar    \n",
       "\n",
       "                                          clean_que2  \n",
       "0                pronounce danish last name damkj r   \n",
       "1  minimum age girl get married islamic republic ...  \n",
       "2                          worst way fake one death   \n",
       "3                                      get rid fear   \n",
       "4     career growth assistant vigilance officer e b   "
      ]
     },
     "execution_count": 42,
     "metadata": {},
     "output_type": "execute_result"
    }
   ],
   "source": [
    "def text_preprocessing(text):\n",
    "    text=re.sub(\"[^a-zA-Z]\", \" \", text)\n",
    "    text=re.sub(\"<.*?>\", \"\", text)\n",
    "    text=str(text).lower()\n",
    "    text=[word for word in text.split(\" \") if word not in stopwords]\n",
    "    text=[lemma.lemmatize(word) for word in text]\n",
    "    text= \" \".join(text)\n",
    "    text=re.sub(\" +\", \" \", text)\n",
    "    return text\n",
    "\n",
    "data['clean_que1']=data['question1'].apply(text_preprocessing)\n",
    "data['clean_que2']=data['question2'].apply(text_preprocessing)\n",
    "data.head()"
   ]
  },
  {
   "cell_type": "markdown",
   "id": "9a1b5ed2",
   "metadata": {},
   "source": [
    "### Merge clean_que1 and clean_que2"
   ]
  },
  {
   "cell_type": "code",
   "execution_count": 61,
   "id": "f21eab00",
   "metadata": {},
   "outputs": [
    {
     "data": {
      "text/html": [
       "<div>\n",
       "<style scoped>\n",
       "    .dataframe tbody tr th:only-of-type {\n",
       "        vertical-align: middle;\n",
       "    }\n",
       "\n",
       "    .dataframe tbody tr th {\n",
       "        vertical-align: top;\n",
       "    }\n",
       "\n",
       "    .dataframe thead th {\n",
       "        text-align: right;\n",
       "    }\n",
       "</style>\n",
       "<table border=\"1\" class=\"dataframe\">\n",
       "  <thead>\n",
       "    <tr style=\"text-align: right;\">\n",
       "      <th></th>\n",
       "      <th>question1</th>\n",
       "      <th>question2</th>\n",
       "      <th>is_duplicate</th>\n",
       "      <th>clean_question</th>\n",
       "    </tr>\n",
       "  </thead>\n",
       "  <tbody>\n",
       "    <tr>\n",
       "      <th>0</th>\n",
       "      <td>How do you pronounce the name of the Danish si...</td>\n",
       "      <td>How do you pronounce the Danish last name Damk...</td>\n",
       "      <td>0</td>\n",
       "      <td>How do you pronounce the name of the Danish si...</td>\n",
       "    </tr>\n",
       "    <tr>\n",
       "      <th>1</th>\n",
       "      <td>Why do Christians believe in Jesus and that he...</td>\n",
       "      <td>What is the minimum age for girls to get marri...</td>\n",
       "      <td>0</td>\n",
       "      <td>Why do Christians believe in Jesus and that he...</td>\n",
       "    </tr>\n",
       "    <tr>\n",
       "      <th>2</th>\n",
       "      <td>What are the best ways to fake your own death?</td>\n",
       "      <td>What are the worst ways to fake one's own death?</td>\n",
       "      <td>0</td>\n",
       "      <td>What are the best ways to fake your own death?...</td>\n",
       "    </tr>\n",
       "    <tr>\n",
       "      <th>3</th>\n",
       "      <td>I feel fear all the time. How can I get rid of...</td>\n",
       "      <td>How can I get rid of fear?</td>\n",
       "      <td>1</td>\n",
       "      <td>I feel fear all the time. How can I get rid of...</td>\n",
       "    </tr>\n",
       "    <tr>\n",
       "      <th>4</th>\n",
       "      <td>What's it like to be the assistant of a female...</td>\n",
       "      <td>How is the career growth of an as assistant vi...</td>\n",
       "      <td>0</td>\n",
       "      <td>What's it like to be the assistant of a female...</td>\n",
       "    </tr>\n",
       "  </tbody>\n",
       "</table>\n",
       "</div>"
      ],
      "text/plain": [
       "                                           question1  \\\n",
       "0  How do you pronounce the name of the Danish si...   \n",
       "1  Why do Christians believe in Jesus and that he...   \n",
       "2     What are the best ways to fake your own death?   \n",
       "3  I feel fear all the time. How can I get rid of...   \n",
       "4  What's it like to be the assistant of a female...   \n",
       "\n",
       "                                           question2  is_duplicate  \\\n",
       "0  How do you pronounce the Danish last name Damk...             0   \n",
       "1  What is the minimum age for girls to get marri...             0   \n",
       "2   What are the worst ways to fake one's own death?             0   \n",
       "3                         How can I get rid of fear?             1   \n",
       "4  How is the career growth of an as assistant vi...             0   \n",
       "\n",
       "                                      clean_question  \n",
       "0  How do you pronounce the name of the Danish si...  \n",
       "1  Why do Christians believe in Jesus and that he...  \n",
       "2  What are the best ways to fake your own death?...  \n",
       "3  I feel fear all the time. How can I get rid of...  \n",
       "4  What's it like to be the assistant of a female...  "
      ]
     },
     "execution_count": 61,
     "metadata": {},
     "output_type": "execute_result"
    }
   ],
   "source": [
    "data['clean_question']=data['question1']+\" \"+data['question2']\n",
    "data.head()"
   ]
  },
  {
   "cell_type": "markdown",
   "id": "3d33b52b",
   "metadata": {},
   "source": [
    "### Input and output"
   ]
  },
  {
   "cell_type": "code",
   "execution_count": 62,
   "id": "2628906a",
   "metadata": {},
   "outputs": [],
   "source": [
    "X=data['clean_question']\n",
    "y=data['is_duplicate']"
   ]
  },
  {
   "cell_type": "markdown",
   "id": "c6623996",
   "metadata": {},
   "source": [
    "### Train test split"
   ]
  },
  {
   "cell_type": "code",
   "execution_count": 63,
   "id": "d12173c5",
   "metadata": {},
   "outputs": [],
   "source": [
    "from sklearn.model_selection import train_test_split\n",
    "x_train,x_test,y_train,y_test=train_test_split(X,y, test_size=0.2, random_state=0)"
   ]
  },
  {
   "cell_type": "markdown",
   "id": "d4617858",
   "metadata": {},
   "source": [
    "### Text to numeric convesion using word embedding"
   ]
  },
  {
   "cell_type": "code",
   "execution_count": 64,
   "id": "d091199c",
   "metadata": {},
   "outputs": [],
   "source": [
    "from keras.preprocessing.text import Tokenizer\n",
    "\n",
    "tokenize=Tokenizer(num_words=100000)\n",
    "tokenize.fit_on_texts(x_train)"
   ]
  },
  {
   "cell_type": "code",
   "execution_count": 65,
   "id": "d7362189",
   "metadata": {},
   "outputs": [
    {
     "name": "stdout",
     "output_type": "stream",
     "text": [
      "How do you pronounce the name of the Danish singer \"MØ\" in English? How do you pronounce the Danish last name Damkjær?\n",
      "[2, 3, 18, 47, 1, 636, 7886, 218, 28, 39, 118, 60, 87, 2, 10, 1, 636, 69, 47, 355]\n"
     ]
    }
   ],
   "source": [
    "#text to sequence\n",
    "x_train_seq=tokenize.texts_to_sequences(x_train)\n",
    "x_test_seq=tokenize.texts_to_sequences(x_test)\n",
    "print(x_train[0])\n",
    "print(x_train_seq[0])"
   ]
  },
  {
   "cell_type": "markdown",
   "id": "9b8b6043",
   "metadata": {},
   "source": [
    "### Use sequence padding so that every vector size should be same. In other words every sentence should be of same words"
   ]
  },
  {
   "cell_type": "code",
   "execution_count": 66,
   "id": "f8766f0b",
   "metadata": {},
   "outputs": [
    {
     "data": {
      "text/plain": [
       "104"
      ]
     },
     "execution_count": 66,
     "metadata": {},
     "output_type": "execute_result"
    }
   ],
   "source": [
    "df_copy=data.copy()\n",
    "df_copy['num_words']=data['clean_question'].apply(lambda x : len(x.split(\" \")))\n",
    "df_copy['num_words'].max()"
   ]
  },
  {
   "cell_type": "code",
   "execution_count": 67,
   "id": "8ab664d1",
   "metadata": {},
   "outputs": [],
   "source": [
    "from keras.utils import pad_sequences\n",
    "max_sentence_len=100\n",
    "x_train_seq_pad=pad_sequences(x_train_seq, padding='post', maxlen=max_sentence_len)\n",
    "x_test_seq_pad=pad_sequences(x_test_seq, padding='post', maxlen=max_sentence_len)"
   ]
  },
  {
   "cell_type": "code",
   "execution_count": 68,
   "id": "e027e0a0",
   "metadata": {},
   "outputs": [
    {
     "name": "stdout",
     "output_type": "stream",
     "text": [
      "How do you pronounce the name of the Danish singer \"MØ\" in English? How do you pronounce the Danish last name Damkjær?\n",
      "[2, 3, 18, 47, 1, 636, 7886, 218, 28, 39, 118, 60, 87, 2, 10, 1, 636, 69, 47, 355]\n",
      "[   2    3   18   47    1  636 7886  218   28   39  118   60   87    2\n",
      "   10    1  636   69   47  355    0    0    0    0    0    0    0    0\n",
      "    0    0    0    0    0    0    0    0    0    0    0    0    0    0\n",
      "    0    0    0    0    0    0    0    0    0    0    0    0    0    0\n",
      "    0    0    0    0    0    0    0    0    0    0    0    0    0    0\n",
      "    0    0    0    0    0    0    0    0    0    0    0    0    0    0\n",
      "    0    0    0    0    0    0    0    0    0    0    0    0    0    0\n",
      "    0    0]\n"
     ]
    }
   ],
   "source": [
    "print(x_train[0])\n",
    "print(x_train_seq[0])\n",
    "print(x_train_seq_pad[0])"
   ]
  },
  {
   "cell_type": "markdown",
   "id": "39f4d037",
   "metadata": {},
   "source": [
    "### Processing output data"
   ]
  },
  {
   "cell_type": "code",
   "execution_count": 69,
   "id": "6307d0ba",
   "metadata": {},
   "outputs": [
    {
     "name": "stdout",
     "output_type": "stream",
     "text": [
      "[1. 0.] [0. 1.]\n"
     ]
    }
   ],
   "source": [
    "from keras.utils import to_categorical\n",
    "y_train_class=to_categorical(y_train, num_classes=2)\n",
    "y_test_class=to_categorical(y_test, num_classes=2)\n",
    "print(y_train_class[0], y_test_class[0])"
   ]
  },
  {
   "cell_type": "markdown",
   "id": "8251c4a8",
   "metadata": {},
   "source": [
    "### Prepearing data for RNN"
   ]
  },
  {
   "cell_type": "markdown",
   "id": "67b83f45",
   "metadata": {},
   "source": [
    "#### input data to 3 dimensions"
   ]
  },
  {
   "cell_type": "code",
   "execution_count": 70,
   "id": "5bb7e763",
   "metadata": {},
   "outputs": [
    {
     "name": "stdout",
     "output_type": "stream",
     "text": [
      "(8000, 100, 1)\n",
      "(2000, 100, 1)\n"
     ]
    }
   ],
   "source": [
    "x_train_seq_pad_rnn=np.array(x_train_seq_pad).reshape((x_train_seq_pad.shape[0]), x_train_seq_pad.shape[1], 1)\n",
    "x_test_seq_pad_rnn=np.array(x_test_seq_pad).reshape((x_test_seq_pad.shape[0]), x_test_seq_pad.shape[1], 1)\n",
    "print(x_train_seq_pad_rnn.shape)\n",
    "print(x_test_seq_pad_rnn.shape)"
   ]
  },
  {
   "cell_type": "markdown",
   "id": "a17df19c",
   "metadata": {},
   "source": [
    "### Build RNN model"
   ]
  },
  {
   "cell_type": "code",
   "execution_count": 71,
   "id": "cca4fa9c",
   "metadata": {},
   "outputs": [],
   "source": [
    "import keras\n",
    "from keras.models import Sequential\n",
    "from keras.layers import Dense, SimpleRNN, Activation\n",
    "from tensorflow.keras.optimizers import Adam"
   ]
  },
  {
   "cell_type": "code",
   "execution_count": 72,
   "id": "14cef24a",
   "metadata": {},
   "outputs": [
    {
     "name": "stdout",
     "output_type": "stream",
     "text": [
      "Model: \"sequential_2\"\n",
      "_________________________________________________________________\n",
      " Layer (type)                Output Shape              Param #   \n",
      "=================================================================\n",
      " simple_rnn_2 (SimpleRNN)    (None, 32)                1088      \n",
      "                                                                 \n",
      " dense_2 (Dense)             (None, 2)                 66        \n",
      "                                                                 \n",
      " activation_2 (Activation)   (None, 2)                 0         \n",
      "                                                                 \n",
      "=================================================================\n",
      "Total params: 1,154\n",
      "Trainable params: 1,154\n",
      "Non-trainable params: 0\n",
      "_________________________________________________________________\n"
     ]
    }
   ],
   "source": [
    "model=Sequential()\n",
    "model.add(SimpleRNN(32, input_shape=(100,1)))\n",
    "model.add(Dense((2)))\n",
    "model.add(Activation(\"softmax\"))\n",
    "model.compile(optimizer=Adam(learning_rate=0.01), loss='binary_crossentropy', metrics=['accuracy'])\n",
    "model.summary()"
   ]
  },
  {
   "cell_type": "code",
   "execution_count": 73,
   "id": "43890b51",
   "metadata": {},
   "outputs": [
    {
     "name": "stdout",
     "output_type": "stream",
     "text": [
      "Epoch 1/10\n",
      "250/250 [==============================] - 14s 35ms/step - loss: 0.6684 - accuracy: 0.6215 - val_loss: 0.6586 - val_accuracy: 0.6320\n",
      "Epoch 2/10\n",
      "250/250 [==============================] - 8s 31ms/step - loss: 0.6638 - accuracy: 0.6231 - val_loss: 0.6582 - val_accuracy: 0.6320\n",
      "Epoch 3/10\n",
      "250/250 [==============================] - 8s 31ms/step - loss: 0.6698 - accuracy: 0.6155 - val_loss: 0.6612 - val_accuracy: 0.6320\n",
      "Epoch 4/10\n",
      "250/250 [==============================] - 8s 31ms/step - loss: 0.6638 - accuracy: 0.6231 - val_loss: 0.6623 - val_accuracy: 0.6320\n",
      "Epoch 5/10\n",
      "250/250 [==============================] - 8s 31ms/step - loss: 0.6653 - accuracy: 0.6195 - val_loss: 0.6602 - val_accuracy: 0.6320\n",
      "Epoch 6/10\n",
      "250/250 [==============================] - 8s 32ms/step - loss: 0.6651 - accuracy: 0.6231 - val_loss: 0.6580 - val_accuracy: 0.6320\n",
      "Epoch 7/10\n",
      "250/250 [==============================] - 8s 32ms/step - loss: 0.6643 - accuracy: 0.6236 - val_loss: 0.6810 - val_accuracy: 0.5830\n",
      "Epoch 8/10\n",
      "250/250 [==============================] - 8s 32ms/step - loss: 0.6754 - accuracy: 0.6109 - val_loss: 0.6627 - val_accuracy: 0.6320\n",
      "Epoch 9/10\n",
      "250/250 [==============================] - 8s 32ms/step - loss: 0.6685 - accuracy: 0.6165 - val_loss: 0.6672 - val_accuracy: 0.6320\n",
      "Epoch 10/10\n",
      "250/250 [==============================] - 8s 32ms/step - loss: 0.6689 - accuracy: 0.6210 - val_loss: 0.6722 - val_accuracy: 0.5625\n"
     ]
    },
    {
     "data": {
      "text/plain": [
       "<keras.callbacks.History at 0x22cef6f7d90>"
      ]
     },
     "execution_count": 73,
     "metadata": {},
     "output_type": "execute_result"
    }
   ],
   "source": [
    "model.fit(x_train_seq_pad, y_train_class, epochs=10, batch_size=32, validation_data=(x_test_seq_pad, y_test_class))"
   ]
  },
  {
   "cell_type": "code",
   "execution_count": 74,
   "id": "8ebc74a6",
   "metadata": {},
   "outputs": [
    {
     "name": "stdout",
     "output_type": "stream",
     "text": [
      "63/63 [==============================] - 1s 12ms/step\n"
     ]
    }
   ],
   "source": [
    "y_pred=np.argmax(model.predict(x_test_seq_pad), axis=-1)"
   ]
  },
  {
   "cell_type": "code",
   "execution_count": 75,
   "id": "422840b5",
   "metadata": {},
   "outputs": [
    {
     "name": "stdout",
     "output_type": "stream",
     "text": [
      "              precision    recall  f1-score   support\n",
      "\n",
      "           0       0.69      0.64      0.67      1363\n",
      "           1       0.34      0.39      0.36       637\n",
      "\n",
      "    accuracy                           0.56      2000\n",
      "   macro avg       0.52      0.52      0.51      2000\n",
      "weighted avg       0.58      0.56      0.57      2000\n",
      "\n"
     ]
    }
   ],
   "source": [
    "from sklearn.metrics import classification_report\n",
    "print(classification_report(y_pred, y_test))"
   ]
  },
  {
   "cell_type": "code",
   "execution_count": 76,
   "id": "b3531c8e",
   "metadata": {},
   "outputs": [
    {
     "data": {
      "text/plain": [
       "array([1, 0, 1, ..., 1, 0, 1], dtype=int64)"
      ]
     },
     "execution_count": 76,
     "metadata": {},
     "output_type": "execute_result"
    }
   ],
   "source": [
    "y_pred"
   ]
  },
  {
   "cell_type": "code",
   "execution_count": null,
   "id": "027cbec2",
   "metadata": {},
   "outputs": [],
   "source": []
  }
 ],
 "metadata": {
  "kernelspec": {
   "display_name": "Python 3 (ipykernel)",
   "language": "python",
   "name": "python3"
  },
  "language_info": {
   "codemirror_mode": {
    "name": "ipython",
    "version": 3
   },
   "file_extension": ".py",
   "mimetype": "text/x-python",
   "name": "python",
   "nbconvert_exporter": "python",
   "pygments_lexer": "ipython3",
   "version": "3.9.7"
  }
 },
 "nbformat": 4,
 "nbformat_minor": 5
}
