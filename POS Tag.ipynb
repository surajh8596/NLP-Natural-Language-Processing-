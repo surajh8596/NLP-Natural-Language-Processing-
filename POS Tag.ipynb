{
 "cells": [
  {
   "cell_type": "markdown",
   "id": "b67b35fd",
   "metadata": {},
   "source": [
    "## POS Tagging\n",
    "- POS-Part Of Speech\n",
    "- Different POS are,\n",
    "    1. CC\t: Coordinating Conjunction\n",
    "    2. CD\t: Cardinal Digit\n",
    "    3. DT\t: Determiner\n",
    "    4. EX\t: Existential there\n",
    "    5. FW\t: Foreign word\n",
    "    6. IN\t: Preposition/subordinating conjunction\n",
    "    7. JJ\t: This NLTK POS Tag is an adjective (large)\n",
    "    8. JJR\t: Adjective, comparative (larger)\n",
    "    9. JJS\t: Adjective, superlative (largest)\n",
    "    10. LS\t: List market\n",
    "    11. MD\t: Modal (could, will)\n",
    "    12. NN\t: Noun, singular (cat, tree)\n",
    "    13. NNS\t: Noun plural (desks)\n",
    "    14. NNP\t: Proper noun, singular (sarah)\n",
    "    15. NNPS : Proper noun, plural (indians or americans)\n",
    "    16. PDT\t: Predeterminer (all, both, half)\n",
    "    17. POS\t: Possessive ending (parent\\ 's)\n",
    "    18. PRP\t: Personal pronoun (hers, herself, him,himself)\n",
    "    19. PRPS\t: Possessive pronoun (her, his, mine, my, our )\n",
    "    20. RB\t: Adverb (occasionally, swiftly)\n",
    "    21. RBR\t: Adverb, comparative (greater)\n",
    "    22. RBS\t: Adverb, superlative (biggest)\n",
    "    23. RP\t: Particle (about)\n",
    "    24. TO\t: Infinite marker (to)\n",
    "    25. UH\t: Interjection (goodbye)\n",
    "    26. VB\t: Verb (ask)\n",
    "    27. VBG\t: Verb gerund (judging)\n",
    "    28. VBD\t: Verb past tense (pleaded)\n",
    "    29. VBN\t: Verb past participle (reunified)\n",
    "    30. VBP\t: Verb, present tense not 3rd person singular(wrap)\n",
    "    31. VBZ\t: Verb, present tense with 3rd person singular (bases)\n",
    "    32. WDT  : wh-determiner (that, what)\n",
    "    33. WP\t: wh- pronoun (who)\n",
    "    34. WRB\t: wh- adverb (how)"
   ]
  },
  {
   "cell_type": "code",
   "execution_count": 1,
   "id": "90e13a86",
   "metadata": {},
   "outputs": [],
   "source": [
    "import pandas as pd\n",
    "import warnings\n",
    "warnings.filterwarnings('ignore')\n",
    "import requests\n",
    "from bs4 import BeautifulSoup\n",
    "from nltk import word_tokenize, pos_tag"
   ]
  },
  {
   "cell_type": "code",
   "execution_count": 2,
   "id": "5ace5b34",
   "metadata": {},
   "outputs": [
    {
     "data": {
      "text/plain": [
       "[('I', 'PRP'),\n",
       " ('saw', 'VBD'),\n",
       " ('a', 'DT'),\n",
       " ('saw', 'NN'),\n",
       " ('in', 'IN'),\n",
       " ('a', 'DT'),\n",
       " ('saw', 'NN')]"
      ]
     },
     "execution_count": 2,
     "metadata": {},
     "output_type": "execute_result"
    }
   ],
   "source": [
    "news=\"I saw a saw in a saw\"\n",
    "word=word_tokenize(news)\n",
    "pos_tag(word)"
   ]
  },
  {
   "cell_type": "code",
   "execution_count": 3,
   "id": "57b82810",
   "metadata": {},
   "outputs": [
    {
     "data": {
      "text/plain": [
       "[('I', 'PRP'),\n",
       " ('saw', 'VBD'),\n",
       " ('a', 'DT'),\n",
       " ('man', 'NN'),\n",
       " ('with', 'IN'),\n",
       " ('the', 'DT'),\n",
       " ('telescope', 'NN')]"
      ]
     },
     "execution_count": 3,
     "metadata": {},
     "output_type": "execute_result"
    }
   ],
   "source": [
    "sentence=\"I saw a man with the telescope\"\n",
    "word1=word_tokenize(sentence)\n",
    "pos_tag(word1)"
   ]
  },
  {
   "cell_type": "code",
   "execution_count": null,
   "id": "76cebae4",
   "metadata": {},
   "outputs": [],
   "source": []
  }
 ],
 "metadata": {
  "kernelspec": {
   "display_name": "Python 3 (ipykernel)",
   "language": "python",
   "name": "python3"
  },
  "language_info": {
   "codemirror_mode": {
    "name": "ipython",
    "version": 3
   },
   "file_extension": ".py",
   "mimetype": "text/x-python",
   "name": "python",
   "nbconvert_exporter": "python",
   "pygments_lexer": "ipython3",
   "version": "3.9.7"
  }
 },
 "nbformat": 4,
 "nbformat_minor": 5
}
